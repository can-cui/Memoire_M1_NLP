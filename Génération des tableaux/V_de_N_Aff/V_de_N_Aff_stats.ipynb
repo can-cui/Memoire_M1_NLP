{
 "cells": [
  {
   "cell_type": "code",
   "execution_count": 1,
   "metadata": {},
   "outputs": [],
   "source": [
    "import csv\n",
    "import statistics as st\n",
    "import xml.etree.ElementTree as ET\n",
    "import re"
   ]
  },
  {
   "cell_type": "code",
   "execution_count": 3,
   "metadata": {},
   "outputs": [
    {
     "data": {
      "text/plain": [
       "107"
      ]
     },
     "execution_count": 3,
     "metadata": {},
     "output_type": "execute_result"
    }
   ],
   "source": [
    "liste_csv = [\"V_de_fierté.xml\", \"V_de_honte.xml\",\"V_de_respect.xml\",\"V_de_mépris.xml\",\"V_de_jalousie.xml\",\"V_de_pitié.xml\"]\n",
    "csvFile = open(\"V_de_N_Aff_stats.csv\", \"w\", encoding=\"utf-8\")\n",
    "ecrire = csv.writer(csvFile)\n",
    "fileHeader = [\"fierté\",\"honte\",\"respect\",\"mépris\",\"jalousie\",\"pitié\"]\n",
    "ecrire.writerow(fileHeader)\n",
    "#liste gauche\n",
    "liste_moyenne_gauche = []\n",
    "liste_mediane_gauche = []\n",
    "liste_mode_gauche = []\n",
    "liste_ecart_type_gauche = []\n",
    "liste_variance_gauche = []\n",
    "#liste droite\n",
    "liste_moyenne_droite = []\n",
    "liste_mediane_droite = []\n",
    "liste_mode_droite = []\n",
    "liste_ecart_type_droite = []\n",
    "liste_variance_droite = []\n",
    "#liste phrase\n",
    "liste_moyenne_phrase = []\n",
    "liste_mediane_phrase = []\n",
    "liste_mode_phrase = []\n",
    "liste_ecart_type_phrase = []\n",
    "liste_variance_phrase = []\n",
    "\n",
    "for fichier in liste_csv:\n",
    "    tree = ET.parse(fichier)\n",
    "    root = tree.getroot()\n",
    "    \n",
    "    nbs_gauche = []\n",
    "    nbs_droite = []\n",
    "    nbs_phrase = []\n",
    "    for line in root.iter(\"line\"):\n",
    "        #partie gauche\n",
    "        left = line.find(\"left\").text\n",
    "        phrase_left = left.split(\"</s><s>\")\n",
    "        contexte_gauche = phrase_left[-1].split()\n",
    "        nb_contexte_gauche = len(contexte_gauche)\n",
    "        nbs_gauche.append(nb_contexte_gauche)\n",
    "        #partie droite\n",
    "        right = line.find(\"right\").text\n",
    "        phrase_right = right.split(\"</s><s>\")\n",
    "        contexte_droite = phrase_right[0].split()\n",
    "        nb_contexte_droite = len(contexte_droite)\n",
    "        nbs_droite.append(nb_contexte_droite)\n",
    "        #kwic et toute la phrase\n",
    "        kwic = line.find(\"kwic\").text.split()\n",
    "        phrase_mots = contexte_gauche + kwic + contexte_droite\n",
    "        nb_phrase = len(phrase_mots)\n",
    "        nbs_phrase.append(nb_phrase)\n",
    "    #remplir liste gauche\n",
    "    moyenne_gauche = st.mean(nbs_gauche)\n",
    "    mediane_gauche = st.median(nbs_gauche) \n",
    "    mode_gauche = st.mode(nbs_gauche)\n",
    "    ecart_type_gauche = st.pstdev(nbs_gauche)\n",
    "    variance_gauche = st.pvariance(nbs_gauche)\n",
    "    liste_moyenne_gauche.append(moyenne_gauche)\n",
    "    liste_mediane_gauche.append(mediane_gauche)\n",
    "    liste_mode_gauche.append(mode_gauche)\n",
    "    liste_ecart_type_gauche.append(ecart_type_gauche)\n",
    "    liste_variance_gauche.append(variance_gauche)\n",
    "    #remplir liste droite\n",
    "    moyenne_droite = st.mean(nbs_droite)\n",
    "    mediane_droite = st.median(nbs_droite) \n",
    "    mode_droite = st.mode(nbs_droite)\n",
    "    ecart_type_droite = st.pstdev(nbs_droite)\n",
    "    variance_droite = st.pvariance(nbs_droite)\n",
    "    liste_moyenne_droite.append(moyenne_droite)\n",
    "    liste_mediane_droite.append(mediane_droite)\n",
    "    liste_mode_droite.append(mode_droite)\n",
    "    liste_ecart_type_droite.append(ecart_type_droite)\n",
    "    liste_variance_droite.append(variance_droite)\n",
    "    #remplir liste phrase\n",
    "    moyenne_phrase = st.mean(nbs_phrase)\n",
    "    mediane_phrase = st.median(nbs_phrase) \n",
    "    mode_phrase = st.mode(nbs_phrase)\n",
    "    ecart_type_phrase = st.pstdev(nbs_phrase)\n",
    "    variance_phrase = st.pvariance(nbs_phrase)\n",
    "    liste_moyenne_phrase.append(moyenne_phrase)\n",
    "    liste_mediane_phrase.append(mediane_phrase)\n",
    "    liste_mode_phrase.append(mode_phrase)\n",
    "    liste_ecart_type_phrase.append(ecart_type_phrase)\n",
    "    liste_variance_phrase.append(variance_phrase)\n",
    "#écrire dans le fichier\n",
    "ecrire.writerow(liste_moyenne_gauche)\n",
    "ecrire.writerow(liste_mediane_gauche)\n",
    "ecrire.writerow(liste_mode_gauche)\n",
    "ecrire.writerow(liste_ecart_type_gauche)\n",
    "ecrire.writerow(liste_variance_gauche)\n",
    "#droite\n",
    "ecrire.writerow(liste_moyenne_droite)\n",
    "ecrire.writerow(liste_mediane_droite)\n",
    "ecrire.writerow(liste_mode_droite)\n",
    "ecrire.writerow(liste_ecart_type_droite)\n",
    "ecrire.writerow(liste_variance_droite)\n",
    "#phrase\n",
    "ecrire.writerow(liste_moyenne_phrase)\n",
    "ecrire.writerow(liste_mediane_phrase)\n",
    "ecrire.writerow(liste_mode_phrase)\n",
    "ecrire.writerow(liste_ecart_type_phrase)\n",
    "ecrire.writerow(liste_variance_phrase)\n"
   ]
  },
  {
   "cell_type": "code",
   "execution_count": 4,
   "metadata": {},
   "outputs": [],
   "source": [
    "csvFile.close()"
   ]
  },
  {
   "cell_type": "code",
   "execution_count": null,
   "metadata": {},
   "outputs": [],
   "source": []
  }
 ],
 "metadata": {
  "kernelspec": {
   "display_name": "Python 3",
   "language": "python",
   "name": "python3"
  },
  "language_info": {
   "codemirror_mode": {
    "name": "ipython",
    "version": 3
   },
   "file_extension": ".py",
   "mimetype": "text/x-python",
   "name": "python",
   "nbconvert_exporter": "python",
   "pygments_lexer": "ipython3",
   "version": "3.7.3"
  }
 },
 "nbformat": 4,
 "nbformat_minor": 2
}
