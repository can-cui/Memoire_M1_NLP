{
 "cells": [
  {
   "cell_type": "code",
   "execution_count": 5,
   "metadata": {},
   "outputs": [
    {
     "name": "stdout",
     "output_type": "stream",
     "text": [
      "         verbe  fierté  honte  respect  mépris  jalousie  pitié\n",
      "0        faire    3097    198       38      14        25     23\n",
      "1    provoquer       5     23       18      21       260     39\n",
      "2     inspirer      26     13      770      51         9    130\n",
      "3       causer       2     10        7       1        15      1\n",
      "4    renforcer      69      5      202      14         4      0\n",
      "5    augmenter       9      3       32       9        13      1\n",
      "6      attiser       1      0        0      15       279      2\n",
      "7    engendrer      10      9       38      41        24      5\n",
      "8   déclencher       1      3        0       3        35      3\n",
      "9   entretenir       5      3       16      17        12      0\n",
      "10     chasser       0     13        0       0         4      0\n",
      "11    dissiper       0      5        0       2         2      0\n"
     ]
    }
   ],
   "source": [
    "import pandas as pd                         \n",
    "data = pd.read_csv(\"causation.csv\", sep=\"\\t\") #les données\n",
    "print(data)"
   ]
  },
  {
   "cell_type": "code",
   "execution_count": 6,
   "metadata": {},
   "outputs": [
    {
     "name": "stdout",
     "output_type": "stream",
     "text": [
      "['verbe', 'fierté', 'honte', 'respect', 'mépris', 'jalousie', 'pitié']\n"
     ]
    }
   ],
   "source": [
    "#print(data.get_values()) #les occurrences de chaque verbe\n",
    "liste = list(data.columns) #liste pour les noms de sentiments \n",
    "print(liste)"
   ]
  },
  {
   "cell_type": "code",
   "execution_count": 8,
   "metadata": {},
   "outputs": [
    {
     "name": "stdout",
     "output_type": "stream",
     "text": [
      "[['Id', 'Label'], ['1', 'fierté'], ['2', 'honte'], ['3', 'respect'], ['4', 'mépris'], ['5', 'jalousie'], ['6', 'pitié'], ['7', 'faire'], ['8', 'provoquer'], ['9', 'inspirer'], ['10', 'causer'], ['11', 'renforcer'], ['12', 'augmenter'], ['13', 'attiser'], ['14', 'engendrer'], ['15', 'déclencher'], ['16', 'entretenir'], ['17', 'chasser'], ['18', 'dissiper']]\n"
     ]
    }
   ],
   "source": [
    "ecrire = []\n",
    "#liste des noms de sentiments\n",
    "for cpt, c in enumerate(liste):\n",
    "    ecrire.append([])\n",
    "    ecrire[cpt].append(str(cpt))\n",
    "    ecrire[cpt].append(c)\n",
    "    \n",
    "#ecrire2 est une liste pour les noms de sentiments    \n",
    "ecrire2 = ecrire[:]\n",
    "\n",
    "#liste des verbes\n",
    "for v in list(data[\"verbe\"]):\n",
    "    cpt += 1\n",
    "    ecrire.append([])\n",
    "    ecrire[cpt].append(str(cpt))\n",
    "    ecrire[cpt].append(v)\n",
    "#première ligne    \n",
    "ecrire[0][0] = \"Id\"\n",
    "ecrire[0][1] = \"Label\"\n",
    "\n",
    "#énumérer le chiffre avec les noms et les verbes\n",
    "csv1 = open(\"causation_noeuds.csv\", \"w\", encoding=\"utf-8\")\n",
    "for couple in ecrire:\n",
    "    csv1.write(couple[0] + \",\" + couple[1] + \"\\n\")\n",
    "csv1.close()\n",
    "print(ecrire)"
   ]
  },
  {
   "cell_type": "code",
   "execution_count": 9,
   "metadata": {},
   "outputs": [],
   "source": [
    "list_ecrire2 = []\n",
    "\n",
    "i = 1\n",
    "\n",
    "list_ecrire2.append([\"Source\", \"Target\", \"Weight\"])\n",
    "\n",
    "for couple in ecrire2[1:]:\n",
    "    vals = list(data[couple[1]])\n",
    "    for cpt, v in enumerate(vals):\n",
    "        list_ecrire2.append([])\n",
    "        list_ecrire2[i].append(couple[0])\n",
    "        list_ecrire2[i].append(str(cpt + len(ecrire2)))\n",
    "        list_ecrire2[i].append(str(v))\n",
    "        i += 1\n",
    "#print(list_ecrire2)\n",
    "\n",
    "csv2 = open(\"causation_relations.csv\", \"w\", encoding=\"utf-8\")\n",
    "for elements in list_ecrire2:\n",
    "    for i in range (0,len(elements)):\n",
    "        csv2.write(elements[i])\n",
    "        if i == len(elements)-1:\n",
    "            csv2.write(\"\\n\")\n",
    "        else:\n",
    "            csv2.write(\",\")\n",
    "    \n",
    "csv2.close()"
   ]
  },
  {
   "cell_type": "code",
   "execution_count": null,
   "metadata": {},
   "outputs": [],
   "source": []
  }
 ],
 "metadata": {
  "kernelspec": {
   "display_name": "Python 3",
   "language": "python",
   "name": "python3"
  },
  "language_info": {
   "codemirror_mode": {
    "name": "ipython",
    "version": 3
   },
   "file_extension": ".py",
   "mimetype": "text/x-python",
   "name": "python",
   "nbconvert_exporter": "python",
   "pygments_lexer": "ipython3",
   "version": "3.7.3"
  }
 },
 "nbformat": 4,
 "nbformat_minor": 2
}
