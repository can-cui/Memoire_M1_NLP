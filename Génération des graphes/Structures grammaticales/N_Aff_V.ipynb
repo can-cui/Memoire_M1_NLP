{
 "cells": [
  {
   "cell_type": "code",
   "execution_count": 1,
   "metadata": {},
   "outputs": [
    {
     "name": "stdout",
     "output_type": "stream",
     "text": [
      "148\n"
     ]
    }
   ],
   "source": [
    "import pandas as pd                         \n",
    "liste_csv = [\"fierté_V.csv\", \"honte_V.csv\",\"respect_V.csv\",\"mépris_V.csv\",\"jalousie_V.csv\",\"pitié_V.csv\"]\n",
    "\n",
    "liste_res = []\n",
    "\n",
    "csv1 = open(\"N_V_noeuds.csv\", \"w\", encoding=\"utf-8\")\n",
    "csv2 = open(\"N_V_relations.csv\", \"w\", encoding=\"utf-8\")\n",
    "\n",
    "ecrire1 = \"\"\n",
    "ecrire2 = \"\"\n",
    "\n",
    "dic_kwic_freq = {}\n",
    "\n",
    "for cpt, fichier in enumerate(liste_csv):\n",
    "    i = 0\n",
    "    \n",
    "    num_sentiment = str(cpt+1)\n",
    "    #print(num_sentiment)\n",
    "    data = pd.read_csv(fichier, sep=\",\")\n",
    "    kwic = list(data[\"kwic\"])\n",
    "    frequence = list(data[\"frequence\"])\n",
    "    \n",
    "    for lemme in kwic:\n",
    "        collocatif = lemme.split()\n",
    "        verbe = collocatif[-1]\n",
    "        if frequence[i] >= 10:\n",
    "            dic_kwic_freq.setdefault(verbe, {})\n",
    "            dic_kwic_freq[verbe].setdefault(num_sentiment, 0)\n",
    "            dic_kwic_freq[verbe][num_sentiment] += frequence[i]\n",
    "        i += 1\n",
    "            \n",
    "ident = 7\n",
    "\n",
    "for k, v in dic_kwic_freq.items():\n",
    "    ecrire1 += str(ident) + \",\" + k + \",\" + \"#FFFFCC\" + \"\\n\"\n",
    "    for num_sent, val in v.items():\n",
    "        ecrire2 += str(num_sent) + \",\" + str(ident) + \",\" + str(val) + \"\\n\"\n",
    "    #ecrire2 += num_sentiment + \",\" + str(ident) + \",\" + str(v) + \"\\n\"\n",
    "    ident += 1\n",
    "\n",
    "print(ident)\n",
    "csv1.write(ecrire1)\n",
    "csv2.write(ecrire2)\n",
    "#print(ecrire1)\n",
    "#print(ecrire2)\n",
    "csv1.close()\n",
    "csv2.close()"
   ]
  },
  {
   "cell_type": "code",
   "execution_count": null,
   "metadata": {},
   "outputs": [],
   "source": []
  }
 ],
 "metadata": {
  "kernelspec": {
   "display_name": "Python 3",
   "language": "python",
   "name": "python3"
  },
  "language_info": {
   "codemirror_mode": {
    "name": "ipython",
    "version": 3
   },
   "file_extension": ".py",
   "mimetype": "text/x-python",
   "name": "python",
   "nbconvert_exporter": "python",
   "pygments_lexer": "ipython3",
   "version": "3.7.3"
  }
 },
 "nbformat": 4,
 "nbformat_minor": 2
}
