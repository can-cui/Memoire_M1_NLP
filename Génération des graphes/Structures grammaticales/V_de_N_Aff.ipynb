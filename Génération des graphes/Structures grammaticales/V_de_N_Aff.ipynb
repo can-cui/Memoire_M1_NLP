{
 "cells": [
  {
   "cell_type": "code",
   "execution_count": 8,
   "metadata": {},
   "outputs": [],
   "source": [
    "import pandas as pd                         \n",
    "data = pd.read_csv(\"V_de_fierté.csv\", sep=\",\") #les données\n",
    "#print(data)"
   ]
  },
  {
   "cell_type": "code",
   "execution_count": 10,
   "metadata": {},
   "outputs": [
    {
     "name": "stdout",
     "output_type": "stream",
     "text": [
      "{'remplir': 168, 'redonner': 70, 'emplir': 67, 'avoir': 78, 'éprouver': 58, 'ressentir': 56, 'gonfler': 36, 'donner': 34, 'rayonner': 31, 'parler': 58, 'empreindre': 30, 'marcher': 25, 'tirer': 24, 'mêler': 21, 'combler': 21, 'être': 20, 'retirer': 17, 'témoigner': 15, 'exprimer': 13, 'défiler': 12, 'déborder': 12, 'rester': 11, 'teinter': 10, 'manquer': 10, 'apporter': 10, 'voir': 9, 'souvenir': 8, 'rougir': 8}\n"
     ]
    }
   ],
   "source": [
    "dic_kwic_freq_fierte={}\n",
    "kwic = list(data[\"kwic\"])\n",
    "frequence = list(data[\"frequence\"])\n",
    "i = 0\n",
    "for lemme in kwic:\n",
    "    collocatif = lemme.split()\n",
    "    verbe = collocatif[0]\n",
    "    if verbe not in dic_kwic_freq_fierte:\n",
    "        dic_kwic_freq_fierte[verbe]=frequence[i]\n",
    "    else:\n",
    "        dic_kwic_freq_fierte[verbe] += frequence[i]\n",
    "    i += 1\n",
    "    if i > 30:\n",
    "        break\n",
    "print(dic_kwic_freq_fierte)"
   ]
  },
  {
   "cell_type": "code",
   "execution_count": 13,
   "metadata": {},
   "outputs": [],
   "source": [
    "import pandas as pd                         \n",
    "data = pd.read_csv(\"V_de_honte.csv\", sep=\",\") #les données\n",
    "#print(data)\n",
    "dic_kwic_freq_honte={}\n",
    "kwic = list(data[\"kwic\"])\n",
    "frequence = list(data[\"frequence\"])\n",
    "i = 0\n",
    "list_honte=[]\n",
    "for lemme in kwic:\n",
    "    collocatif = lemme.split()\n",
    "    verbe = collocatif[0]\n",
    "    if verbe not in dic_kwic_freq_honte:\n",
    "        dic_kwic_freq_honte[verbe]=frequence[i]\n",
    "        list_honte.append(verbe)\n",
    "        i+=1\n",
    "#print(dic_kwic_freq_honte)"
   ]
  },
  {
   "cell_type": "code",
   "execution_count": 14,
   "metadata": {
    "collapsed": true
   },
   "outputs": [
    {
     "name": "stdout",
     "output_type": "stream",
     "text": [
      "[['1', 'fierté'], ['2', 'honte'], ['3', 'respect'], ['4', 'mépris'], ['5', 'jalousie'], ['6', 'pitié'], ['7', 'couvrir'], ['8', 'mourir'], ['9', 'rougir'], ['10', 'éprouver'], ['11', 'ressentir'], ['12', 'remplir'], ['13', 'pleurer'], ['14', 'avoir'], ['15', 'parler'], ['16', 'prendre'], ['17', 'pâlir'], ['18', 'mêler'], ['19', 'libérer'], ['20', 'accabler'], ['21', 'qualifier'], ['22', 'être'], ['23', 'emplir'], ['24', 'cacher'], ['25', 'sortir'], ['26', 'crever'], ['27', 'saisir'], ['28', 'trembler'], ['29', 'suicider'], ['30', 'sauver'], ['31', 'faire'], ['32', 'charger'], ['33', 'débarrasser'], ['34', 'cesser'], ['35', 'arriver'], ['36', 'teinter'], ['37', 'pétrir'], ['38', 'frémir'], ['39', 'revêtir'], ['40', 'laver'], ['41', 'passer'], ['42', 'mortifier'], ['43', 'écraser'], ['44', 'submerger'], ['45', 'renaître'], ['46', 'pétrifier'], ['47', 'dire'], ['48', 'opérer'], ['49', 'étouffer'], ['50', 'vomir'], ['51', 'souffrir'], ['52', 'frapper'], ['53', 'entacher'], ['54', 'empêcher'], ['55', 'affranchir'], ['56', 'tuer'], ['57', 'hurler'], ['58', 'causer'], ['59', 'sangloter'], ['60', 'refuser'], ['61', 'rassasier'], ['62', 'périr'], ['63', 'empourprer'], ['64', 'agir'], ['65', 'voir'], ['66', 'suivre'], ['67', 'recevoir'], ['68', 'manifester'], ['69', 'inspirer'], ['70', 'guérir'], ['71', 'effondrer'], ['72', 'dépourvoir'], ['73', 'boire'], ['74', 'arrêter'], ['75', 'ajouter'], ['76', 'accompagner'], ['77', 'vivre'], ['78', 'souiller'], ['79', 'relever'], ['80', 'pénétrer'], ['81', 'pendre'], ['82', 'mélanger'], ['83', 'inquiéter'], ['84', 'générer'], ['85', 'frissonner'], ['86', 'fondre'], ['87', 'exaspérer'], ['88', 'envahir'], ['89', 'empreindre'], ['90', 'délivrer'], ['91', 'donner'], ['92', 'consumer'], ['93', 'confondre'], ['94', 'brûler'], ['95', 'baisser'], ['96', 'abreuver'], ['97', 'éviter'], ['98', 'écrouler'], ['99', 'toucher'], ['100', 'tomber'], ['101', 'tacher'], ['102', 'résulter'], ['103', 'réjouir'], ['104', 'rosir'], ['105', 'ronger'], ['106', 'remettre'], ['107', 'protéger'], ['108', 'partager'], ['109', 'palir'], ['110', 'mourrir'], ['111', 'marcher'], ['112', 'jouir'], ['113', 'issir'], ['114', 'inonder'], ['115', 'garder'], ['116', 'fuir'], ['117', 'figer'], ['118', 'exprimer'], ['119', 'essayer'], ['120', 'envelopper'], ['121', 'entourer'], ['122', 'enterrer'], ['123', 'engendrer'], ['124', 'dénuer'], ['125', 'démissionner'], ['126', 'défaire'], ['127', 'défaillir'], ['128', 'concevoir'], ['129', 'chialer'], ['130', 'blêmir'], ['131', 'éveiller'], ['132', 'évanouir'], ['133', 'étrangler'], ['134', 'éclabousser'], ['135', 'vous-mêmecessez'], ['136', 'venir'], ['137', 'transpirer'], ['138', 'transir'], ['139', 'torturer'], ['140', 'tordre'], ['141', 'terrer'], ['142', 'terrasser'], ['143', 'taxer'], ['144', 'taire'], ['145', 'suffoquer'], ['146', 'suer'], ['147', 'subir'], ['148', 'souvenir'], ['149', 'sentir'], ['150', 'sacrer'], ['151', 'rêver'], ['152', 'rugir'], ['153', 'risquer'], ['154', 'retourner'], ['155', 'provenir'], ['156', 'profiter'], ['157', 'pa'], ['158', 'obliger'], ['159', 'nourrir'], ['160', 'naître'], ['161', 'morfondre'], ['162', 'menacer'], ['163', 'masquer'], ['164', 'marquer'], ['165', 'manquer'], ['166', 'jeter'], ['167', 'hériter'], ['168', 'gémir'], ['169', 'gorger'], ['170', 'gonfler'], ['171', 'entâcher'], ['172', 'enfuir'], ['173', 'enflammer'], ['174', 'endurer'], ['175', 'dévorer'], ['176', 'dépouiller'], ['177', 'dégouliner'], ['178', 'décéder'], ['179', 'découler'], ['180', 'doubler'], ['181', 'distinguer'], ['182', 'continuer'], ['183', 'colloquer'], ['184', 'assombrir'], ['185', 'aller'], ['186', 'accuser'], ['187', 'ôter'], ['188', 'évoquer'], ['189', 'éperdre'], ['190', 'élever'], ['191', 'échanger'], ['192', 'zapper'], ['193', 'yeus'], ['194', 'vêtir'], ['195', 'vest'], ['196', 'venger'], ['197', 'vaincre'], ['198', 'vaciller'], ['199', 'ugi'], ['200', 'témoigner'], ['201', 'typer'], ['202', 'trépigner'], ['203', 'trépasser'], ['204', 'trouver'], ['205', 'troubler'], ['206', 'triompher'], ['207', 'trembloter'], ['208', 'traiter'], ['209', 'traficrempli'], ['210', 'tisser'], ['211', 'tenter'], ['212', 'temoigner'], ['213', 'tasser'], ['214', 'sétrangler'], ['215', 'sécher'], ['216', 'sursauter'], ['217', 'surmonter'], ['218', 'supporter'], ['219', 'suffire'], ['220', 'soumettre'], ['221', 'soucier'], ['222', 'servir'], ['223', 'serrer'], ['224', 'sentimant'], ['225', 'secouer'], ['226', 'scander'], ['227', 'savoir'], ['228', 'saupoudrer'], ['229', 'saliver'], ['230', 'salir'], ['231', 'saigner'], ['232', 'rouogi'], ['233', 'rouler'], ['234', 'rire'], ['235', 'retirer'], ['236', 'reteindre'], ['237', 'rester'], ['238', 'reprocher'], ['239', 'reprendre'], ['240', 'renverser'], ['241', 'renier'], ['242', 'renfermer'], ['243', 'remporter'], ['244', 'relayer'], ['245', 'redresser'], ['246', 'recroqueviller'], ['247', 'recouvrir'], ['248', 'reconnaître'], ['249', 'rebuter'], ['250', 'rappeler'], ['251', 'ramper'], ['252', 'rajouter'], ['253', 'putréfier'], ['254', 'purger'], ['255', 'punir'], ['256', 'publier'], ['257', 'préserver'], ['258', 'produire'], ['259', 'priver'], ['260', 'priser'], ['261', 'pouvoir'], ['262', 'pluerer'], ['263', 'plier'], ['264', 'planquer'], ['265', 'permettre'], ['266', 'payer'], ['267', 'partir'], ['268', 'participer'], ['269', 'pardonner'], ['270', 'paralyser'], ['271', 'panacher'], ['272', 'outrer'], ['273', 'oublier'], ['274', 'ordonner'], ['275', 'occlusodontie'], ['276', 'noyer'], ['277', 'noircir'], ['278', 'nest'], ['279', 'navrer'], ['280', 'mélées'], ['281', 'mourrut'], ['282', 'mouiller'], ['283', 'mortifère'], ['284', 'moquer'], ['285', 'monter'], ['286', 'meurtrir'], ['287', 'marrer'], ['288', 'maintenir'], ['289', 'maculer'], ['290', 'lécrase'], ['291', 'liquéfier'], ['292', 'letest'], ['293', 'lavenant'], ['294', 'justifier'], ['295', 'juger'], ['296', 'jouer'], ['297', 'jai'], ['298', 'ipleure'], ['299', 'intérioriser'], ['300', 'introduire'], ['301', 'insondé'], ['302', 'inhumer'], ['303', 'infliger'], ['304', 'ignorer'], ['305', 'hâter'], ['306', 'habiller'], ['307', 'gêner'], ['308', 'grêler'], ['309', 'grisonner'], ['310', 'grever'], ['311', 'grament'], ['312', 'glorifier'], ['313', 'glacer'], ['314', 'gerber'], ['315', 'gaver'], ['316', 'garantir'], ['317', 'foutre'], ['318', 'foudroyer'], ['319', 'fonder'], ['320', 'flétrir'], ['321', 'flageller'], ['322', 'finir'], ['323', 'fabriquer'], ['324', 'exclamer'], ['325', 'exciter'], ['326', 'exacerber'], ['327', 'etre'], ['328', 'esguillonné'], ['329', 'eprouvent'], ['330', 'enrager'], ['331', 'engluer'], ['332', 'enfouir'], ['333', 'encourir'], ['334', 'encombrer'], ['335', 'embraser'], ['336', 'effrayer'], ['337', 'effacer'], ['338', 'désagréger'], ['339', 'dériver'], ['340', 'déprouver'], ['341', 'délester'], ['342', 'dégager'], ['343', 'défier'], ['344', 'défenestrer'], ['345', 'dédommager'], ['346', 'décoller'], ['347', 'déclencher'], ['348', 'décider'], ['349', 'décharner'], ['350', 'décharger'], ['351', 'déceler'], ['352', 'débarasser'], ['353', 'draper'], ['354', 'dissoudre'], ['355', 'dissimuler'], ['356', 'dispenser'], ['357', 'disparaître'], ['358', 'différencier'], ['359', 'devoir'], ['360', 'dessécher'], ['361', 'demissionnerais'], ['362', 'demander'], ['363', 'cuire'], ['364', 'créer'], ['365', 'crucifier'], ['366', 'crisper'], ['367', 'crier'], ['368', 'cravater'], ['369', 'craindre'], ['370', 'couvroit'], ['371', 'couvrire'], ['372', 'courreciez'], ['373', 'courir'], ['374', 'courber'], ['375', 'coudre'], ['376', 'convenir'], ['377', 'convaincre'], ['378', 'contraindre'], ['379', 'contorsionner'], ['380', 'contenter'], ['381', 'connoter'], ['382', 'connaître'], ['383', 'concerner'], ['384', 'compter'], ['385', 'commencer'], ['386', 'combiner'], ['387', 'colorer'], ['388', 'coiffer'], ['389', 'clouer'], ['390', 'clore'], ['391', 'chier'], ['392', 'cest'], ['393', 'camoufler'], ['394', 'bloquer'], ['395', 'blesser'], ['396', 'blemir'], ['397', 'bayer'], ['398', 'battre'], ['399', 'banquer'], ['400', 'avérer'], ['401', 'avouer'], ['402', 'avancer'], ['403', 'au-delâ'], ['404', 'attrister'], ['405', 'attirer'], ['406', 'attacher'], ['407', 'assaillir'], ['408', 'arrèté'], ['409', 'arroser'], ['410', 'arracher'], ['411', 'apporter'], ['412', 'aplatir'], ['413', 'animer'], ['414', 'ancrer'], ['415', 'ainsirempli'], ['416', 'aiguillonner'], ['417', 'affliger'], ['418', 'affaisser'], ['419', 'acculer'], ['420', 'accoutrer'], ['421', 'accoucher'], ['422', 'accommoder'], ['423', 'accepter'], ['424', 'aborder'], ['425', 'abasourdir'], ['426', 'abandonner']]\n"
     ]
    }
   ],
   "source": [
    "ecrire = [['1', 'fierté'], ['2', 'honte'], ['3', 'respect'], ['4', 'mépris'], ['5', 'jalousie'], ['6', 'pitié']]\n",
    "for cpt, c in enumerate(list_honte):\n",
    "    ecrire.append([])\n",
    "    i = cpt+6\n",
    "    ecrire[i].append(str(i+1))\n",
    "    ecrire[i].append(c)\n",
    "print(ecrire)"
   ]
  },
  {
   "cell_type": "code",
   "execution_count": 20,
   "metadata": {},
   "outputs": [],
   "source": [
    "csv1 = open(\"honte_noeuds.csv\", \"w\", encoding=\"utf-8\")\n",
    "csv2 = open(\"honte_relation.csv\", \"w\", encoding=\"utf-8\")\n",
    "for couple in ecrire:\n",
    "    mot = couple[1]\n",
    "    csv1.write(couple[0] + \",\" + couple[1] + \"\\n\")\n",
    "    if mot in dic_kwic_freq_honte:\n",
    "        csv2.write(couple[0] + \",\" + couple[1] + \",\" + str(dic_kwic_freq_honte[mot]) + \"\\n\")\n",
    "    #csv1.write(str(ecrire))\n",
    "csv1.close()\n",
    "csv2.close()\n",
    "#print(ecrire)"
   ]
  },
  {
   "cell_type": "code",
   "execution_count": 17,
   "metadata": {},
   "outputs": [
    {
     "name": "stdout",
     "output_type": "stream",
     "text": [
      "ressentir\n",
      "130\n"
     ]
    }
   ],
   "source": [
    "print(ecrire[10][1])\n",
    "mot = ecrire[10][1]\n",
    "\n",
    "print(dic_kwic_freq_honte[mot])"
   ]
  },
  {
   "cell_type": "code",
   "execution_count": 56,
   "metadata": {},
   "outputs": [
    {
     "name": "stdout",
     "output_type": "stream",
     "text": [
      "161\n"
     ]
    }
   ],
   "source": [
    "liste_csv = [\"V_de_fierté.csv\", \"V_de_honte.csv\",\"V_de_respect.csv\",\"V_de_mépris.csv\",\"V_de_jalousie.csv\",\"V_de_pitié.csv\"]\n",
    "\n",
    "liste_res = []\n",
    "\n",
    "csv1 = open(\"noeuds.csv\", \"w\", encoding=\"utf-8\")\n",
    "csv2 = open(\"relations.csv\", \"w\", encoding=\"utf-8\")\n",
    "\n",
    "ecrire1 = \"\"\n",
    "ecrire2 = \"\"\n",
    "\n",
    "dic_kwic_freq = {}\n",
    "\n",
    "for cpt, fichier in enumerate(liste_csv):\n",
    "    i = 0\n",
    "    \n",
    "    num_sentiment = str(cpt+1)\n",
    "    #print(num_sentiment)\n",
    "    data = pd.read_csv(fichier, sep=\",\")\n",
    "    kwic = list(data[\"kwic\"])\n",
    "    frequence = list(data[\"frequence\"])\n",
    "    \n",
    "    for lemme in kwic:\n",
    "        collocatif = lemme.split()\n",
    "        verbe = collocatif[0]\n",
    "        if frequence[i] >= 10:\n",
    "            dic_kwic_freq.setdefault(verbe, {})\n",
    "            dic_kwic_freq[verbe].setdefault(num_sentiment, 0)\n",
    "            dic_kwic_freq[verbe][num_sentiment] += frequence[i]\n",
    "        i += 1\n",
    "            \n",
    "ident = 7\n",
    "\n",
    "for k, v in dic_kwic_freq.items():\n",
    "    ecrire1 += str(ident) + \",\" + k + \",\" + \"#FFFFCC\" + \"\\n\"\n",
    "    for num_sent, val in v.items():\n",
    "        ecrire2 += str(num_sent) + \",\" + str(ident) + \",\" + str(val) + \"\\n\"\n",
    "    #ecrire2 += num_sentiment + \",\" + str(ident) + \",\" + str(v) + \"\\n\"\n",
    "    ident += 1\n",
    "\n",
    "print(ident)\n",
    "csv1.write(ecrire1)\n",
    "csv2.write(ecrire2)\n",
    "#print(ecrire1)\n",
    "#print(ecrire2)\n",
    "csv1.close()\n",
    "csv2.close()"
   ]
  },
  {
   "cell_type": "code",
   "execution_count": null,
   "metadata": {},
   "outputs": [],
   "source": []
  }
 ],
 "metadata": {
  "kernelspec": {
   "display_name": "Python 3",
   "language": "python",
   "name": "python3"
  },
  "language_info": {
   "codemirror_mode": {
    "name": "ipython",
    "version": 3
   },
   "file_extension": ".py",
   "mimetype": "text/x-python",
   "name": "python",
   "nbconvert_exporter": "python",
   "pygments_lexer": "ipython3",
   "version": "3.7.3"
  }
 },
 "nbformat": 4,
 "nbformat_minor": 2
}
